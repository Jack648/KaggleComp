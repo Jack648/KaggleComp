{
 "cells": [
  {
   "cell_type": "markdown",
   "id": "ef296861",
   "metadata": {
    "papermill": {
     "duration": 0.02,
     "end_time": "2021-12-08T16:35:24.309245",
     "exception": false,
     "start_time": "2021-12-08T16:35:24.289245",
     "status": "completed"
    },
    "tags": []
   },
   "source": [
    " # **GaussianNB Classifier**"
   ]
  },
  {
   "cell_type": "code",
   "execution_count": 1,
   "id": "2de81069",
   "metadata": {
    "_cell_guid": "b1076dfc-b9ad-4769-8c92-a6c4dae69d19",
    "_uuid": "8f2839f25d086af736a60e9eeb907d3b93b6e0e5",
    "execution": {
     "iopub.execute_input": "2021-12-08T16:35:24.347621Z",
     "iopub.status.busy": "2021-12-08T16:35:24.345829Z",
     "iopub.status.idle": "2021-12-08T16:35:25.589417Z",
     "shell.execute_reply": "2021-12-08T16:35:25.589879Z",
     "shell.execute_reply.started": "2021-12-08T16:31:02.029281Z"
    },
    "papermill": {
     "duration": 1.264566,
     "end_time": "2021-12-08T16:35:25.590184",
     "exception": false,
     "start_time": "2021-12-08T16:35:24.325618",
     "status": "completed"
    },
    "tags": []
   },
   "outputs": [
    {
     "name": "stdout",
     "output_type": "stream",
     "text": [
      "/kaggle/input/uofg-mlh-2021-22-classification/X_test.csv\n",
      "/kaggle/input/uofg-mlh-2021-22-classification/y_train.csv\n",
      "/kaggle/input/uofg-mlh-2021-22-classification/X_train.csv\n",
      "/kaggle/input/uofg-mlh-2021-22-classification/my_submission.csv\n",
      "/kaggle/input/uofg-mlh-2021-22-classification/example_script.py\n"
     ]
    }
   ],
   "source": [
    "# This Python 3 environment comes with many helpful analytics libraries installed\n",
    "# It is defined by the kaggle/python Docker image: https://github.com/kaggle/docker-python\n",
    "# For example, here's several helpful packages to load\n",
    "\n",
    "\n",
    "from sklearn.model_selection import GridSearchCV\n",
    "from sklearn.preprocessing import RobustScaler\n",
    "import numpy as np # linear algebra\n",
    "import pandas as pd # data processing, CSV file I/O (e.g. pd.read_csv)\n",
    "from sklearn.neighbors import KNeighborsClassifier\n",
    "from sklearn.neural_network import MLPClassifier\n",
    "from sklearn.linear_model import LogisticRegression\n",
    "import matplotlib.pyplot as plt\n",
    "# Input data files are available in the read-only \"../input/\" directory\n",
    "# For example, running this (by clicking run or pressing Shift+Enter) will list all files under the input directory\n",
    "\n",
    "import os\n",
    "for dirname, _, filenames in os.walk('/kaggle/input'):\n",
    "    for filename in filenames:\n",
    "        print(os.path.join(dirname, filename))\n",
    "        \n",
    "        \n",
    "\n",
    "# You can write up to 20GB to the current directory (/kaggle/working/) that gets preserved as output when you create a version using \"Save & Run All\" \n",
    "# You can also write temporary files to /kaggle/temp/, but they won't be saved outside of the current session\n",
    "\n",
    "# Load training and testing data\n",
    "x_train = pd.read_csv('/kaggle/input/uofg-mlh-2021-22-classification/X_train.csv', delimiter=',')\n",
    "y_train = pd.read_csv('/kaggle/input/uofg-mlh-2021-22-classification/y_train.csv', delimiter=',').to_numpy()\n",
    "x_test = pd.read_csv('/kaggle/input/uofg-mlh-2021-22-classification/X_test.csv', delimiter=',')\n",
    "\n",
    "y_train = np.delete(y_train,0,axis=1).ravel()\n",
    "\n"
   ]
  },
  {
   "cell_type": "code",
   "execution_count": 2,
   "id": "9a6a101d",
   "metadata": {
    "execution": {
     "iopub.execute_input": "2021-12-08T16:35:25.641117Z",
     "iopub.status.busy": "2021-12-08T16:35:25.640417Z",
     "iopub.status.idle": "2021-12-08T16:35:25.641719Z",
     "shell.execute_reply": "2021-12-08T16:35:25.642266Z",
     "shell.execute_reply.started": "2021-12-08T16:31:02.081554Z"
    },
    "papermill": {
     "duration": 0.035303,
     "end_time": "2021-12-08T16:35:25.642431",
     "exception": false,
     "start_time": "2021-12-08T16:35:25.607128",
     "status": "completed"
    },
    "tags": []
   },
   "outputs": [],
   "source": [
    "x_train = x_train.drop(\"Number.of.inner.objects..polygon.\",axis=1)\n",
    "x_test = x_test.drop(\"Number.of.inner.objects..polygon.\",axis=1)"
   ]
  },
  {
   "cell_type": "code",
   "execution_count": 3,
   "id": "fdab8c4d",
   "metadata": {
    "execution": {
     "iopub.execute_input": "2021-12-08T16:35:25.681196Z",
     "iopub.status.busy": "2021-12-08T16:35:25.678059Z",
     "iopub.status.idle": "2021-12-08T16:35:25.684345Z",
     "shell.execute_reply": "2021-12-08T16:35:25.684876Z",
     "shell.execute_reply.started": "2021-12-08T16:31:02.089118Z"
    },
    "papermill": {
     "duration": 0.026132,
     "end_time": "2021-12-08T16:35:25.685076",
     "exception": false,
     "start_time": "2021-12-08T16:35:25.658944",
     "status": "completed"
    },
    "tags": []
   },
   "outputs": [],
   "source": [
    "from sklearn.model_selection import train_test_split\n",
    "sX_train, sX_test, sY_train, sY_test = train_test_split(x_train, y_train, test_size=0.2)\n"
   ]
  },
  {
   "cell_type": "code",
   "execution_count": 4,
   "id": "a18be0d5",
   "metadata": {
    "execution": {
     "iopub.execute_input": "2021-12-08T16:35:25.722066Z",
     "iopub.status.busy": "2021-12-08T16:35:25.721130Z",
     "iopub.status.idle": "2021-12-08T16:35:25.745656Z",
     "shell.execute_reply": "2021-12-08T16:35:25.746157Z",
     "shell.execute_reply.started": "2021-12-08T16:31:02.102692Z"
    },
    "papermill": {
     "duration": 0.044575,
     "end_time": "2021-12-08T16:35:25.746347",
     "exception": false,
     "start_time": "2021-12-08T16:35:25.701772",
     "status": "completed"
    },
    "tags": []
   },
   "outputs": [],
   "source": [
    "scaler = RobustScaler(quantile_range=(10.0, 90.0))\n",
    "sX_train = scaler.fit_transform(sX_train)\n",
    "sX_test = scaler.transform(sX_test)"
   ]
  },
  {
   "cell_type": "code",
   "execution_count": 5,
   "id": "4c37369d",
   "metadata": {
    "execution": {
     "iopub.execute_input": "2021-12-08T16:35:25.782456Z",
     "iopub.status.busy": "2021-12-08T16:35:25.781791Z",
     "iopub.status.idle": "2021-12-08T16:35:26.416295Z",
     "shell.execute_reply": "2021-12-08T16:35:26.415782Z",
     "shell.execute_reply.started": "2021-12-08T16:31:02.132904Z"
    },
    "papermill": {
     "duration": 0.653768,
     "end_time": "2021-12-08T16:35:26.416449",
     "exception": false,
     "start_time": "2021-12-08T16:35:25.762681",
     "status": "completed"
    },
    "tags": []
   },
   "outputs": [
    {
     "name": "stdout",
     "output_type": "stream",
     "text": [
      "{'var_smoothing': 0.0001}\n"
     ]
    }
   ],
   "source": [
    "from sklearn.naive_bayes import GaussianNB\n",
    "from sklearn.model_selection import GridSearchCV\n",
    "classifier = GaussianNB()\n",
    "gridSearch = GridSearchCV(classifier,param_grid = {'var_smoothing': np.logspace(0,-20, num=21)}, cv=10 )\n",
    "gridSearch.fit(sX_train,sY_train)\n",
    "print(gridSearch.best_params_)\n",
    "\n",
    "\n",
    "y_pred = classifier.fit(sX_train, sY_train)\n",
    "y_pred = classifier.predict(sX_test)\n",
    "\n",
    "y_pred2 = gridSearch.fit(sX_train, sY_train)\n",
    "y_pred2 = gridSearch.predict(sX_test)"
   ]
  },
  {
   "cell_type": "code",
   "execution_count": 6,
   "id": "e25c7bac",
   "metadata": {
    "execution": {
     "iopub.execute_input": "2021-12-08T16:35:26.458365Z",
     "iopub.status.busy": "2021-12-08T16:35:26.456617Z",
     "iopub.status.idle": "2021-12-08T16:35:26.469444Z",
     "shell.execute_reply": "2021-12-08T16:35:26.469893Z",
     "shell.execute_reply.started": "2021-12-08T16:31:02.751101Z"
    },
    "papermill": {
     "duration": 0.036542,
     "end_time": "2021-12-08T16:35:26.470080",
     "exception": false,
     "start_time": "2021-12-08T16:35:26.433538",
     "status": "completed"
    },
    "tags": []
   },
   "outputs": [
    {
     "name": "stdout",
     "output_type": "stream",
     "text": [
      "GaussianNB\n",
      "              precision    recall  f1-score   support\n",
      "\n",
      "           1       0.86      0.90      0.88        20\n",
      "           2       0.89      0.85      0.87        20\n",
      "\n",
      "    accuracy                           0.88        40\n",
      "   macro avg       0.88      0.88      0.87        40\n",
      "weighted avg       0.88      0.88      0.87        40\n",
      "\n",
      "[[18  2]\n",
      " [ 3 17]]\n",
      "GaussianNB with grid search\n",
      "              precision    recall  f1-score   support\n",
      "\n",
      "           1       0.90      0.90      0.90        20\n",
      "           2       0.90      0.90      0.90        20\n",
      "\n",
      "    accuracy                           0.90        40\n",
      "   macro avg       0.90      0.90      0.90        40\n",
      "weighted avg       0.90      0.90      0.90        40\n",
      "\n",
      "[[18  2]\n",
      " [ 2 18]]\n"
     ]
    }
   ],
   "source": [
    "from sklearn.metrics import classification_report, confusion_matrix\n",
    "print(\"GaussianNB\")\n",
    "print(classification_report(sY_test,y_pred))\n",
    "print(confusion_matrix(sY_test, y_pred))\n",
    "\n",
    "print(\"GaussianNB with grid search\")\n",
    "print(classification_report(sY_test,y_pred2))\n",
    "print(confusion_matrix(sY_test, y_pred2))\n"
   ]
  },
  {
   "cell_type": "markdown",
   "id": "837f7ed1",
   "metadata": {
    "papermill": {
     "duration": 0.016887,
     "end_time": "2021-12-08T16:35:26.503822",
     "exception": false,
     "start_time": "2021-12-08T16:35:26.486935",
     "status": "completed"
    },
    "tags": []
   },
   "source": []
  },
  {
   "cell_type": "markdown",
   "id": "7c417959",
   "metadata": {
    "papermill": {
     "duration": 0.016346,
     "end_time": "2021-12-08T16:35:26.536975",
     "exception": false,
     "start_time": "2021-12-08T16:35:26.520629",
     "status": "completed"
    },
    "tags": []
   },
   "source": [
    "# **K-NearestNeighbours classifier**"
   ]
  },
  {
   "cell_type": "code",
   "execution_count": 7,
   "id": "e4c7c891",
   "metadata": {
    "execution": {
     "iopub.execute_input": "2021-12-08T16:35:26.574274Z",
     "iopub.status.busy": "2021-12-08T16:35:26.573320Z",
     "iopub.status.idle": "2021-12-08T16:35:26.619891Z",
     "shell.execute_reply": "2021-12-08T16:35:26.619393Z",
     "shell.execute_reply.started": "2021-12-08T16:31:02.768642Z"
    },
    "papermill": {
     "duration": 0.066325,
     "end_time": "2021-12-08T16:35:26.620100",
     "exception": false,
     "start_time": "2021-12-08T16:35:26.553775",
     "status": "completed"
    },
    "tags": []
   },
   "outputs": [
    {
     "name": "stdout",
     "output_type": "stream",
     "text": [
      "/kaggle/input/uofg-mlh-2021-22-classification/X_test.csv\n",
      "/kaggle/input/uofg-mlh-2021-22-classification/y_train.csv\n",
      "/kaggle/input/uofg-mlh-2021-22-classification/X_train.csv\n",
      "/kaggle/input/uofg-mlh-2021-22-classification/my_submission.csv\n",
      "/kaggle/input/uofg-mlh-2021-22-classification/example_script.py\n"
     ]
    }
   ],
   "source": [
    "# This Python 3 environment comes with many helpful analytics libraries installed\n",
    "# It is defined by the kaggle/python Docker image: https://github.com/kaggle/docker-python\n",
    "# For example, here's several helpful packages to load\n",
    "\n",
    "\n",
    "from sklearn.model_selection import GridSearchCV\n",
    "\n",
    "\n",
    "import numpy as np # linear algebra\n",
    "import pandas as pd # data processing, CSV file I/O (e.g. pd.read_csv)\n",
    "from sklearn.neighbors import KNeighborsClassifier\n",
    "from sklearn.neural_network import MLPClassifier\n",
    "from sklearn.linear_model import LogisticRegression\n",
    "\n",
    "# Input data files are available in the read-only \"../input/\" directory\n",
    "# For example, running this (by clicking run or pressing Shift+Enter) will list all files under the input directory\n",
    "\n",
    "import os\n",
    "for dirname, _, filenames in os.walk('/kaggle/input'):\n",
    "    for filename in filenames:\n",
    "        print(os.path.join(dirname, filename))\n",
    "        \n",
    "        \n",
    "\n",
    "# You can write up to 20GB to the current directory (/kaggle/working/) that gets preserved as output when you create a version using \"Save & Run All\" \n",
    "# You can also write temporary files to /kaggle/temp/, but they won't be saved outside of the current session\n",
    "\n",
    "# Load training and testing data\n",
    "nx_train = pd.read_csv('/kaggle/input/uofg-mlh-2021-22-classification/X_train.csv', delimiter=',')\n",
    "ny_train = pd.read_csv('/kaggle/input/uofg-mlh-2021-22-classification/y_train.csv', delimiter=',').to_numpy()\n",
    "nx_test = pd.read_csv('/kaggle/input/uofg-mlh-2021-22-classification/X_test.csv', delimiter=',')\n",
    "\n",
    "\n",
    "ny_train = np.delete(ny_train,0,axis=1).ravel()"
   ]
  },
  {
   "cell_type": "code",
   "execution_count": 8,
   "id": "778a14fe",
   "metadata": {
    "execution": {
     "iopub.execute_input": "2021-12-08T16:35:26.661337Z",
     "iopub.status.busy": "2021-12-08T16:35:26.660701Z",
     "iopub.status.idle": "2021-12-08T16:35:26.662419Z",
     "shell.execute_reply": "2021-12-08T16:35:26.662819Z",
     "shell.execute_reply.started": "2021-12-08T16:31:02.813815Z"
    },
    "papermill": {
     "duration": 0.025164,
     "end_time": "2021-12-08T16:35:26.662986",
     "exception": false,
     "start_time": "2021-12-08T16:35:26.637822",
     "status": "completed"
    },
    "tags": []
   },
   "outputs": [],
   "source": [
    "from sklearn.model_selection import train_test_split\n",
    "nsX_train, nsX_test, nsY_train, nsY_test = train_test_split(nx_train, ny_train, test_size=0.3)"
   ]
  },
  {
   "cell_type": "code",
   "execution_count": 9,
   "id": "79d5ae5e",
   "metadata": {
    "execution": {
     "iopub.execute_input": "2021-12-08T16:35:26.704722Z",
     "iopub.status.busy": "2021-12-08T16:35:26.704095Z",
     "iopub.status.idle": "2021-12-08T16:35:26.713687Z",
     "shell.execute_reply": "2021-12-08T16:35:26.714149Z",
     "shell.execute_reply.started": "2021-12-08T16:31:02.823239Z"
    },
    "papermill": {
     "duration": 0.0344,
     "end_time": "2021-12-08T16:35:26.714379",
     "exception": false,
     "start_time": "2021-12-08T16:35:26.679979",
     "status": "completed"
    },
    "tags": []
   },
   "outputs": [],
   "source": [
    "from sklearn.preprocessing import StandardScaler\n",
    "nscaler = StandardScaler()\n",
    "nscaler.fit(nsX_train)\n",
    "nsX_train = nscaler.fit_transform(nsX_train)\n",
    "nsX_test = nscaler.transform(nsX_test)"
   ]
  },
  {
   "cell_type": "code",
   "execution_count": 10,
   "id": "12789496",
   "metadata": {
    "execution": {
     "iopub.execute_input": "2021-12-08T16:35:26.751979Z",
     "iopub.status.busy": "2021-12-08T16:35:26.751399Z",
     "iopub.status.idle": "2021-12-08T16:35:26.761612Z",
     "shell.execute_reply": "2021-12-08T16:35:26.762060Z",
     "shell.execute_reply.started": "2021-12-08T16:31:02.842068Z"
    },
    "papermill": {
     "duration": 0.030673,
     "end_time": "2021-12-08T16:35:26.762243",
     "exception": false,
     "start_time": "2021-12-08T16:35:26.731570",
     "status": "completed"
    },
    "tags": []
   },
   "outputs": [
    {
     "data": {
      "text/plain": [
       "KNeighborsClassifier()"
      ]
     },
     "execution_count": 10,
     "metadata": {},
     "output_type": "execute_result"
    }
   ],
   "source": [
    "nclassifier = KNeighborsClassifier(n_neighbors=5)\n",
    "nclassifier.fit(nsX_train, nsY_train)"
   ]
  },
  {
   "cell_type": "code",
   "execution_count": 11,
   "id": "c4f652fd",
   "metadata": {
    "execution": {
     "iopub.execute_input": "2021-12-08T16:35:26.908011Z",
     "iopub.status.busy": "2021-12-08T16:35:26.906326Z",
     "iopub.status.idle": "2021-12-08T16:35:33.155285Z",
     "shell.execute_reply": "2021-12-08T16:35:33.154729Z",
     "shell.execute_reply.started": "2021-12-08T16:31:02.853421Z"
    },
    "papermill": {
     "duration": 6.375783,
     "end_time": "2021-12-08T16:35:33.155441",
     "exception": false,
     "start_time": "2021-12-08T16:35:26.779658",
     "status": "completed"
    },
    "tags": []
   },
   "outputs": [
    {
     "name": "stdout",
     "output_type": "stream",
     "text": [
      "{'n_neighbors': 3} 0.84375\n"
     ]
    }
   ],
   "source": [
    "\n",
    "ngridSearch = GridSearchCV(nclassifier,param_grid = {'n_neighbors' : np.linspace(1, 50, 50,dtype=int)},cv=50)\n",
    "ngridSearch.fit(nsX_train,nsY_train)\n",
    "nypred2 =ngridSearch.predict(nsX_test)\n",
    "print(ngridSearch.best_params_, gridSearch.best_score_)\n",
    "\n",
    "#gridSearch = GridSearchCV(classifier,param_grid)\n",
    "#gridSearch.fit(scaled_x_train,yTrain)\n",
    "#print(gridSearch.best_params_)"
   ]
  },
  {
   "cell_type": "code",
   "execution_count": 12,
   "id": "2ff4f174",
   "metadata": {
    "execution": {
     "iopub.execute_input": "2021-12-08T16:35:33.196611Z",
     "iopub.status.busy": "2021-12-08T16:35:33.195927Z",
     "iopub.status.idle": "2021-12-08T16:35:33.202110Z",
     "shell.execute_reply": "2021-12-08T16:35:33.202558Z",
     "shell.execute_reply.started": "2021-12-08T16:31:09.101942Z"
    },
    "papermill": {
     "duration": 0.029302,
     "end_time": "2021-12-08T16:35:33.202725",
     "exception": false,
     "start_time": "2021-12-08T16:35:33.173423",
     "status": "completed"
    },
    "tags": []
   },
   "outputs": [],
   "source": [
    "\n",
    "\n",
    "ny_pred = nclassifier.predict(nsX_test)"
   ]
  },
  {
   "cell_type": "markdown",
   "id": "6a189501",
   "metadata": {
    "papermill": {
     "duration": 0.01736,
     "end_time": "2021-12-08T16:35:33.237764",
     "exception": false,
     "start_time": "2021-12-08T16:35:33.220404",
     "status": "completed"
    },
    "tags": []
   },
   "source": [
    "# **Comparison**"
   ]
  },
  {
   "cell_type": "markdown",
   "id": "8f2e89fb",
   "metadata": {
    "papermill": {
     "duration": 0.017345,
     "end_time": "2021-12-08T16:35:33.272787",
     "exception": false,
     "start_time": "2021-12-08T16:35:33.255442",
     "status": "completed"
    },
    "tags": []
   },
   "source": [
    "**Confusion matrixes with heat maps**"
   ]
  },
  {
   "cell_type": "code",
   "execution_count": 13,
   "id": "e4dd6674",
   "metadata": {
    "execution": {
     "iopub.execute_input": "2021-12-08T16:35:33.316462Z",
     "iopub.status.busy": "2021-12-08T16:35:33.315566Z",
     "iopub.status.idle": "2021-12-08T16:35:33.341604Z",
     "shell.execute_reply": "2021-12-08T16:35:33.340699Z",
     "shell.execute_reply.started": "2021-12-08T16:31:09.114303Z"
    },
    "papermill": {
     "duration": 0.051362,
     "end_time": "2021-12-08T16:35:33.341797",
     "exception": false,
     "start_time": "2021-12-08T16:35:33.290435",
     "status": "completed"
    },
    "tags": []
   },
   "outputs": [
    {
     "name": "stdout",
     "output_type": "stream",
     "text": [
      "KNN\n",
      "              precision    recall  f1-score   support\n",
      "\n",
      "           1       0.96      0.87      0.92        31\n",
      "           2       0.88      0.97      0.92        29\n",
      "\n",
      "    accuracy                           0.92        60\n",
      "   macro avg       0.92      0.92      0.92        60\n",
      "weighted avg       0.92      0.92      0.92        60\n",
      "\n",
      "[[27  4]\n",
      " [ 1 28]]\n",
      "KNN-GridSearch\n",
      "              precision    recall  f1-score   support\n",
      "\n",
      "           1       0.93      0.84      0.88        31\n",
      "           2       0.84      0.93      0.89        29\n",
      "\n",
      "    accuracy                           0.88        60\n",
      "   macro avg       0.89      0.88      0.88        60\n",
      "weighted avg       0.89      0.88      0.88        60\n",
      "\n",
      "[[26  5]\n",
      " [ 2 27]]\n",
      "GaussianNB\n",
      "              precision    recall  f1-score   support\n",
      "\n",
      "           1       0.86      0.90      0.88        20\n",
      "           2       0.89      0.85      0.87        20\n",
      "\n",
      "    accuracy                           0.88        40\n",
      "   macro avg       0.88      0.88      0.87        40\n",
      "weighted avg       0.88      0.88      0.87        40\n",
      "\n",
      "[[18  2]\n",
      " [ 3 17]]\n",
      "Grid Search GaussianNB\n",
      "              precision    recall  f1-score   support\n",
      "\n",
      "           1       0.90      0.90      0.90        20\n",
      "           2       0.90      0.90      0.90        20\n",
      "\n",
      "    accuracy                           0.90        40\n",
      "   macro avg       0.90      0.90      0.90        40\n",
      "weighted avg       0.90      0.90      0.90        40\n",
      "\n",
      "[[18  2]\n",
      " [ 2 18]]\n"
     ]
    }
   ],
   "source": [
    "from sklearn.metrics import classification_report, confusion_matrix\n",
    "print(\"KNN\")\n",
    "print(classification_report(nsY_test,ny_pred))\n",
    "print(confusion_matrix(nsY_test, ny_pred))\n",
    "mat1=confusion_matrix(nsY_test, ny_pred)\n",
    "print(\"KNN-GridSearch\")\n",
    "print(classification_report(nsY_test,nypred2))\n",
    "print(confusion_matrix(nsY_test, nypred2))\n",
    "mat2=confusion_matrix(nsY_test, nypred2)\n",
    "print(\"GaussianNB\")\n",
    "print(classification_report(sY_test,y_pred))\n",
    "print(confusion_matrix(sY_test, y_pred))\n",
    "mat3=confusion_matrix(sY_test, y_pred)\n",
    "print(\"Grid Search GaussianNB\")\n",
    "print(classification_report(sY_test,y_pred2))\n",
    "print(confusion_matrix(sY_test, y_pred2))\n",
    "mat4=confusion_matrix(sY_test, y_pred2)\n"
   ]
  },
  {
   "cell_type": "code",
   "execution_count": 14,
   "id": "77046a68",
   "metadata": {
    "execution": {
     "iopub.execute_input": "2021-12-08T16:35:33.383674Z",
     "iopub.status.busy": "2021-12-08T16:35:33.382982Z",
     "iopub.status.idle": "2021-12-08T16:35:33.717745Z",
     "shell.execute_reply": "2021-12-08T16:35:33.718197Z",
     "shell.execute_reply.started": "2021-12-08T16:31:09.151083Z"
    },
    "papermill": {
     "duration": 0.35751,
     "end_time": "2021-12-08T16:35:33.718374",
     "exception": false,
     "start_time": "2021-12-08T16:35:33.360864",
     "status": "completed"
    },
    "tags": []
   },
   "outputs": [
    {
     "data": {
      "text/plain": [
       "<AxesSubplot:>"
      ]
     },
     "execution_count": 14,
     "metadata": {},
     "output_type": "execute_result"
    },
    {
     "data": {
      "image/png": "[encoded data removed]",
      "text/plain": [
       "<Figure size 432x288 with 2 Axes>"
      ]
     },
     "metadata": {
      "needs_background": "light"
     },
     "output_type": "display_data"
    }
   ],
   "source": [
    "import seaborn as sn\n",
    "\n",
    "sn.heatmap(mat1, annot=True, annot_kws={\"size\": 16})\n",
    "    "
   ]
  },
  {
   "cell_type": "code",
   "execution_count": 15,
   "id": "b011bb8d",
   "metadata": {
    "execution": {
     "iopub.execute_input": "2021-12-08T16:35:33.762273Z",
     "iopub.status.busy": "2021-12-08T16:35:33.761585Z",
     "iopub.status.idle": "2021-12-08T16:35:33.975848Z",
     "shell.execute_reply": "2021-12-08T16:35:33.974901Z",
     "shell.execute_reply.started": "2021-12-08T16:31:09.375838Z"
    },
    "papermill": {
     "duration": 0.238722,
     "end_time": "2021-12-08T16:35:33.975996",
     "exception": false,
     "start_time": "2021-12-08T16:35:33.737274",
     "status": "completed"
    },
    "tags": []
   },
   "outputs": [
    {
     "data": {
      "text/plain": [
       "<AxesSubplot:>"
      ]
     },
     "execution_count": 15,
     "metadata": {},
     "output_type": "execute_result"
    },
    {
     "data": {
      "image/png": "[encoded data removed]",
      "text/plain": [
       "<Figure size 432x288 with 2 Axes>"
      ]
     },
     "metadata": {
      "needs_background": "light"
     },
     "output_type": "display_data"
    }
   ],
   "source": [
    "sn.heatmap(mat2, annot=True, annot_kws={\"size\": 16})"
   ]
  },
  {
   "cell_type": "code",
   "execution_count": 16,
   "id": "8775e8d3",
   "metadata": {
    "execution": {
     "iopub.execute_input": "2021-12-08T16:35:34.020041Z",
     "iopub.status.busy": "2021-12-08T16:35:34.019403Z",
     "iopub.status.idle": "2021-12-08T16:35:34.256912Z",
     "shell.execute_reply": "2021-12-08T16:35:34.256406Z",
     "shell.execute_reply.started": "2021-12-08T16:31:09.598168Z"
    },
    "papermill": {
     "duration": 0.261242,
     "end_time": "2021-12-08T16:35:34.257078",
     "exception": false,
     "start_time": "2021-12-08T16:35:33.995836",
     "status": "completed"
    },
    "tags": []
   },
   "outputs": [
    {
     "data": {
      "text/plain": [
       "<AxesSubplot:>"
      ]
     },
     "execution_count": 16,
     "metadata": {},
     "output_type": "execute_result"
    },
    {
     "data": {
      "image/png": "[encoded data removed]",
      "text/plain": [
       "<Figure size 432x288 with 2 Axes>"
      ]
     },
     "metadata": {
      "needs_background": "light"
     },
     "output_type": "display_data"
    }
   ],
   "source": [
    "sn.heatmap(mat3, annot=True, annot_kws={\"size\": 16})"
   ]
  },
  {
   "cell_type": "code",
   "execution_count": 17,
   "id": "ade990ac",
   "metadata": {
    "execution": {
     "iopub.execute_input": "2021-12-08T16:35:34.302001Z",
     "iopub.status.busy": "2021-12-08T16:35:34.301385Z",
     "iopub.status.idle": "2021-12-08T16:35:34.535488Z",
     "shell.execute_reply": "2021-12-08T16:35:34.535006Z",
     "shell.execute_reply.started": "2021-12-08T16:31:09.839694Z"
    },
    "papermill": {
     "duration": 0.257929,
     "end_time": "2021-12-08T16:35:34.535622",
     "exception": false,
     "start_time": "2021-12-08T16:35:34.277693",
     "status": "completed"
    },
    "tags": []
   },
   "outputs": [
    {
     "data": {
      "text/plain": [
       "<AxesSubplot:>"
      ]
     },
     "execution_count": 17,
     "metadata": {},
     "output_type": "execute_result"
    },
    {
     "data": {
      "image/png": "[encoded data removed]",
      "text/plain": [
       "<Figure size 432x288 with 2 Axes>"
      ]
     },
     "metadata": {
      "needs_background": "light"
     },
     "output_type": "display_data"
    }
   ],
   "source": [
    "sn.heatmap(mat4, annot=True, annot_kws={\"size\": 16})"
   ]
  },
  {
   "cell_type": "code",
   "execution_count": 18,
   "id": "f5751662",
   "metadata": {
    "execution": {
     "iopub.execute_input": "2021-12-08T16:35:34.590622Z",
     "iopub.status.busy": "2021-12-08T16:35:34.589990Z",
     "iopub.status.idle": "2021-12-08T16:37:45.923101Z",
     "shell.execute_reply": "2021-12-08T16:37:45.922536Z",
     "shell.execute_reply.started": "2021-12-08T16:31:10.088047Z"
    },
    "papermill": {
     "duration": 131.366395,
     "end_time": "2021-12-08T16:37:45.923257",
     "exception": false,
     "start_time": "2021-12-08T16:35:34.556862",
     "status": "completed"
    },
    "tags": []
   },
   "outputs": [],
   "source": [
    "\n",
    "from sklearn.metrics import f1_score\n",
    "\n",
    "\n",
    "tloss1=[]\n",
    "tloss2=[]\n",
    "tloss3=[]\n",
    "tloss4=[]\n",
    "for i in range(20):\n",
    "\n",
    "    from sklearn.model_selection import train_test_split\n",
    "    nsX_train, nsX_test, nsY_train, nsY_test = train_test_split(x_train, y_train, test_size=0.30)\n",
    "    \n",
    "    nscaler.fit(nsX_train)\n",
    "    nsX_train = nscaler.fit_transform(nsX_train)\n",
    "    nsX_test = nscaler.transform(nsX_test)\n",
    "\n",
    "    from sklearn.model_selection import train_test_split\n",
    "    sX_train, sX_test, sY_train, sY_test = train_test_split(x_train, y_train, test_size=0.3)\n",
    "    \n",
    "    scaler.fit(sX_train)\n",
    "    sX_train = scaler.fit_transform(sX_train)\n",
    "    sX_test = scaler.transform(sX_test)\n",
    "\n",
    "\n",
    "    y_pred = classifier.fit(sX_train, sY_train)\n",
    "    y_pred = classifier.predict(sX_test)\n",
    "    loss1 = f1_score(sY_test, y_pred)\n",
    "    tloss1.append(loss1)\n",
    "    \n",
    "    y_pred2 = gridSearch.fit(sX_train, sY_train)\n",
    "    y_pred2 = gridSearch.predict(sX_test)\n",
    "    loss2 = f1_score(sY_test, y_pred2)\n",
    "    tloss2.append(loss2)\n",
    "\n",
    "    ny_pred1 = nclassifier.fit(nsX_train, nsY_train)\n",
    "    ny_pred1 = nclassifier.predict(nsX_test)\n",
    "    loss3 = f1_score(nsY_test, ny_pred1)\n",
    "    tloss3.append(loss3)\n",
    "\n",
    "    ny_pred2 = ngridSearch.fit(nsX_train, nsY_train)\n",
    "    ny_pred2 = ngridSearch.predict(nsX_test)\n",
    "    loss4 = f1_score(nsY_test, ny_pred2)\n",
    "    tloss4.append(loss4)\n"
   ]
  },
  {
   "cell_type": "markdown",
   "id": "0086900d",
   "metadata": {
    "papermill": {
     "duration": 0.020931,
     "end_time": "2021-12-08T16:37:45.965435",
     "exception": false,
     "start_time": "2021-12-08T16:37:45.944504",
     "status": "completed"
    },
    "tags": []
   },
   "source": [
    "**GRAPH**\n",
    "\n",
    "Below is the average Squared Loss of 20 runs of each classifer. The data is randomly distrubted between test and training each time with 30 percent being used to test and 70 percent used for training. \n",
    "\n",
    "Bars represent average Loss and error bars represent the standard deviation of each"
   ]
  },
  {
   "cell_type": "code",
   "execution_count": 19,
   "id": "66a05dd2",
   "metadata": {
    "execution": {
     "iopub.execute_input": "2021-12-08T16:37:46.010225Z",
     "iopub.status.busy": "2021-12-08T16:37:46.009649Z",
     "iopub.status.idle": "2021-12-08T16:37:46.285193Z",
     "shell.execute_reply": "2021-12-08T16:37:46.285618Z",
     "shell.execute_reply.started": "2021-12-08T16:31:16.837252Z"
    },
    "papermill": {
     "duration": 0.299414,
     "end_time": "2021-12-08T16:37:46.285787",
     "exception": false,
     "start_time": "2021-12-08T16:37:45.986373",
     "status": "completed"
    },
    "tags": []
   },
   "outputs": [
    {
     "data": {
      "image/png": "[encoded data removed]",
      "text/plain": [
       "<Figure size 720x720 with 1 Axes>"
      ]
     },
     "metadata": {
      "needs_background": "light"
     },
     "output_type": "display_data"
    }
   ],
   "source": [
    "\n",
    "loss1=np.average(tloss1)\n",
    "loss2=np.average(tloss2)\n",
    "loss3=np.average(tloss3)\n",
    "loss4=np.average(tloss4)\n",
    "\n",
    "std1=np.std(tloss1)\n",
    "std2=np.std(tloss2)\n",
    "std3=np.std(tloss3)\n",
    "std4=np.std(tloss4)\n",
    "\n",
    "labels = [\"GaussianNB\",\"GS GaussianNB\",\"K-NearestNeighbours\",\"GS K-NearestNeighbours\"]\n",
    "x_pos = np.arange(len(labels))\n",
    "losses = [loss1,loss2,loss3,loss4]\n",
    "error = [std1,std2,std3,std4]\n",
    "# Build the plot\n",
    "fig, ax = plt.subplots(figsize=(10, 10))\n",
    "ax.bar(x_pos, losses, yerr=error, align='center', alpha=0.5, ecolor='black', capsize=10)\n",
    "ax.set_ylabel('F1-Score')\n",
    "ax.set_xticks(x_pos)\n",
    "ax.set_xticklabels(labels)\n",
    "ax.set_title('Coefficent of Thermal Expansion (CTE) of Three Metals')\n",
    "\n",
    "\n",
    "# Save the figure and show\n",
    "\n",
    "\n",
    "plt.savefig('bar_plot_with_error_bars.png')\n",
    "plt.show()\n",
    "\n",
    "\n",
    "\n"
   ]
  },
  {
   "cell_type": "code",
   "execution_count": 20,
   "id": "b026caed",
   "metadata": {
    "execution": {
     "iopub.execute_input": "2021-12-08T16:37:46.332175Z",
     "iopub.status.busy": "2021-12-08T16:37:46.331548Z",
     "iopub.status.idle": "2021-12-08T16:37:46.359437Z",
     "shell.execute_reply": "2021-12-08T16:37:46.358831Z",
     "shell.execute_reply.started": "2021-12-08T16:31:17.116205Z"
    },
    "papermill": {
     "duration": 0.052144,
     "end_time": "2021-12-08T16:37:46.359586",
     "exception": false,
     "start_time": "2021-12-08T16:37:46.307442",
     "status": "completed"
    },
    "tags": []
   },
   "outputs": [],
   "source": [
    "classifier = KNeighborsClassifier(algorithm='auto', leaf_size= 25, n_neighbors=4,p=1,weights='distance')\n",
    "classifier.fit(nx_train,ny_train)\n",
    "pred=classifier.predict(nx_test)"
   ]
  },
  {
   "cell_type": "code",
   "execution_count": 21,
   "id": "439616c0",
   "metadata": {
    "execution": {
     "iopub.execute_input": "2021-12-08T16:37:46.407602Z",
     "iopub.status.busy": "2021-12-08T16:37:46.406669Z",
     "iopub.status.idle": "2021-12-08T16:37:46.437979Z",
     "shell.execute_reply": "2021-12-08T16:37:46.437480Z",
     "shell.execute_reply.started": "2021-12-08T16:33:23.023280Z"
    },
    "papermill": {
     "duration": 0.056172,
     "end_time": "2021-12-08T16:37:46.438144",
     "exception": false,
     "start_time": "2021-12-08T16:37:46.381972",
     "status": "completed"
    },
    "tags": []
   },
   "outputs": [],
   "source": [
    "classifierSub = GaussianNB()\n",
    "from sklearn.feature_selection import SelectKBest\n",
    "selector = SelectKBest(k=40)\n",
    "scalerSubset = RobustScaler()\n",
    "\n",
    "features = selector.fit_transform(x_train, y_train)\n",
    "selected_x_train = scalerSubset.fit_transform(features)\n",
    "features2 = selector.transform(x_test)\n",
    "selected_test = scalerSubset.transform(features2)\n",
    "\n",
    "#fy_pred = classifier.fit(scalerX_train, y_train)\n",
    "#fy_pred = classifier.predict(scalerX_test)\n",
    "\n",
    "classifierSub.fit(selected_x_train,y_train)\n",
    "pred = classifierSub.predict(selected_test)"
   ]
  },
  {
   "cell_type": "code",
   "execution_count": 22,
   "id": "69608f2f",
   "metadata": {
    "execution": {
     "iopub.execute_input": "2021-12-08T16:37:46.488097Z",
     "iopub.status.busy": "2021-12-08T16:37:46.487440Z",
     "iopub.status.idle": "2021-12-08T16:37:46.491570Z",
     "shell.execute_reply": "2021-12-08T16:37:46.492063Z",
     "shell.execute_reply.started": "2021-12-08T16:31:17.182549Z"
    },
    "papermill": {
     "duration": 0.031996,
     "end_time": "2021-12-08T16:37:46.492227",
     "exception": false,
     "start_time": "2021-12-08T16:37:46.460231",
     "status": "completed"
    },
    "tags": []
   },
   "outputs": [],
   "source": [
    "test_header = \"Id,EpiOrStroma\"\n",
    "n_points = selected_test.shape[0]\n",
    "y_pred_pp = np.ones((n_points, 2))\n",
    "y_pred_pp[:, 0] = range(n_points)\n",
    "y_pred_pp[:, 1] = pred\n",
    "\n",
    "\n",
    "np.savetxt('submission.csv', y_pred_pp, fmt='%d', delimiter=\",\",\n",
    "           header=test_header, comments=\"\")"
   ]
  }
 ],
 "metadata": {
  "kernelspec": {
   "display_name": "Python 3",
   "language": "python",
   "name": "python3"
  },
  "language_info": {
   "codemirror_mode": {
    "name": "ipython",
    "version": 3
   },
   "file_extension": ".py",
   "mimetype": "text/x-python",
   "name": "python",
   "nbconvert_exporter": "python",
   "pygments_lexer": "ipython3",
   "version": "3.7.10"
  },
  "papermill": {
   "default_parameters": {},
   "duration": 151.28824,
   "end_time": "2021-12-08T16:37:47.223515",
   "environment_variables": {},
   "exception": null,
   "input_path": "__notebook__.ipynb",
   "output_path": "__notebook__.ipynb",
   "parameters": {},
   "start_time": "2021-12-08T16:35:15.935275",
   "version": "2.3.3"
  }
 },
 "nbformat": 4,
 "nbformat_minor": 5
}
