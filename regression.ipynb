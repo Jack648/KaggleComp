{
 "cells": [
  {
   "cell_type": "code",
   "execution_count": 1,
   "id": "6cb5ced0",
   "metadata": {
    "_cell_guid": "b1076dfc-b9ad-4769-8c92-a6c4dae69d19",
    "_uuid": "8f2839f25d086af736a60e9eeb907d3b93b6e0e5",
    "execution": {
     "iopub.execute_input": "2021-11-17T15:20:13.801436Z",
     "iopub.status.busy": "2021-11-17T15:20:13.787463Z",
     "iopub.status.idle": "2021-11-17T15:20:15.014900Z",
     "shell.execute_reply": "2021-11-17T15:20:15.014094Z",
     "shell.execute_reply.started": "2021-11-17T15:19:52.597240Z"
    },
    "papermill": {
     "duration": 1.248569,
     "end_time": "2021-11-17T15:20:15.015072",
     "exception": false,
     "start_time": "2021-11-17T15:20:13.766503",
     "status": "completed"
    },
    "tags": []
   },
   "outputs": [
    {
     "name": "stdout",
     "output_type": "stream",
     "text": [
      "/kaggle/input/uofgmlh2021-22regression/X_test.csv\n",
      "/kaggle/input/uofgmlh2021-22regression/y_train.csv\n",
      "/kaggle/input/uofgmlh2021-22regression/X_train.csv\n",
      "/kaggle/input/uofgmlh2021-22regression/my_submission.csv\n",
      "/kaggle/input/uofgmlh2021-22regression/example_script.py\n",
      "(41, 2)\n"
     ]
    }
   ],
   "source": [
    "# This Python 3 environment comes with many helpful analytics libraries installed\n",
    "# It is defined by the kaggle/python Docker image: https://github.com/kaggle/docker-python\n",
    "# For example, here's several helpful packages to load\n",
    "\n",
    "import numpy as np # linear algebra\n",
    "import pandas as pd # data processing, CSV file I/O (e.g. pd.read_csv)\n",
    "from sklearn.linear_model import LogisticRegression\n",
    "from sklearn.preprocessing import MinMaxScaler\n",
    "\n",
    "# Input data files are available in the read-only \"../input/\" directory\n",
    "# For example, running this (by clicking run or pressing Shift+Enter) will list all files under the input directory\n",
    "\n",
    "import os\n",
    "for dirname, _, filenames in os.walk('/kaggle/input'):\n",
    "    for filename in filenames:\n",
    "        print(os.path.join(dirname, filename))\n",
    "\n",
    "#!/usr/bin/env python\n",
    "\n",
    "import numpy as np\n",
    "\n",
    "\n",
    "# Load training and testing data\n",
    "X_train = pd.read_csv('/kaggle/input/uofgmlh2021-22regression/X_train.csv', delimiter=',')\n",
    "y_train = pd.read_csv('/kaggle/input/uofgmlh2021-22regression/y_train.csv', delimiter=',')\n",
    "X_test = pd.read_csv('/kaggle/input/uofgmlh2021-22regression/X_test.csv', delimiter=',')\n",
    "\n",
    "\n",
    "\n",
    "X_train_copy = X_train\n",
    "X_train_copy = X_train_copy.drop('MMAX',axis=1,)\n",
    "X_train_copy = X_train_copy.drop('MMIN',axis=1)\n",
    "#X_train_copy = X_train_copy.drop('CHMAX',axis=1,)\n",
    "#X_train_copy = X_train_copy.drop('CHMIN',axis=1)\n",
    "\n",
    "\n",
    "avgM = (X_train['MMAX']+X_train['MMIN'])/2\n",
    "avgC = (X_train['CHMIN']+X_train['CHMAX'])/2\n",
    "X_train_copy.insert(2,'MAVG',avgM)\n",
    "#X_train_copy.insert(3,'CHAVG',avgC)\n",
    "X_train_avg = X_train_copy\n",
    "\n",
    "X_test_copy = X_test\n",
    "X_test_copy = X_test_copy.drop('MMAX',axis=1,)\n",
    "X_test_copy = X_test_copy.drop('MMIN',axis=1)\n",
    "#X_test_copy = X_test_copy.drop('CHMAX',axis=1,)\n",
    "#X_test_copy = X_test_copy.drop('CHMIN',axis=1)\n",
    "\n",
    "\n",
    "avgMTest = (X_train['MMAX']+X_train['MMIN'])/2\n",
    "#avgCTest = (X_train['CHMAX']+X_train['CHMIN'])/2\n",
    "X_test_copy.insert(2,'MAVG',avgMTest)\n",
    "#X_test_copy.insert(3,'CHAVG',avgCTest)\n",
    "X_test_avg = X_test_copy\n",
    "\n",
    "#scaler = MinMaxScaler()\n",
    "#scaledTrain = scaler.fit_transform(X_train_avg)\n",
    "#scaledTest = scaler.transform(X_test_avg)\n",
    "\n",
    "\n",
    "model = LogisticRegression(solver='liblinear')\n",
    "trained = model.fit(X_train_avg,y_train['PRP'])\n",
    "#trained = model.fit(scaledTrain,y_train['PRP'])\n",
    "\n",
    "\n",
    "\n",
    "# Fit model and predict test values\n",
    "#y_pred = np.random.randint(y_train.min(), y_train.max(), X_test.shape[0])\n",
    "y_pred = trained.predict(X_test_avg)\n",
    "# Arrange answer in two columns. First column (with header \"Id\") is an\n",
    "# enumeration from 0 to n-1, where n is the number of test points. Second\n",
    "# column (with header \"EpiOrStroma\" is the predictions.\n",
    "\n",
    "test_header = \"Id,PRP\"\n",
    "n_points = X_test.shape[0]\n",
    "y_pred_pp = np.ones((n_points, 2))\n",
    "y_pred_pp[:, 0] = range(n_points)\n",
    "y_pred_pp[:, 1] = y_pred\n",
    "\n",
    "print(y_pred_pp.shape)\n",
    "np.savetxt('submission.csv', y_pred_pp, fmt='%d,%f', delimiter=\",\",\n",
    "           header=test_header, comments=\"\")\n",
    "\n",
    "\n",
    "# Note: fmt='%d' denotes that all values should be formatted as integers which\n",
    "# is appropriate for classification. For regression, where the second column\n",
    "# should be floating point, use fmt='%d,%f'."
   ]
  },
  {
   "cell_type": "code",
   "execution_count": null,
   "id": "c4464a02",
   "metadata": {
    "papermill": {
     "duration": 0.00317,
     "end_time": "2021-11-17T15:20:15.022454",
     "exception": false,
     "start_time": "2021-11-17T15:20:15.019284",
     "status": "completed"
    },
    "tags": []
   },
   "outputs": [],
   "source": []
  }
 ],
 "metadata": {
  "kernelspec": {
   "display_name": "Python 3",
   "language": "python",
   "name": "python3"
  },
  "language_info": {
   "codemirror_mode": {
    "name": "ipython",
    "version": 3
   },
   "file_extension": ".py",
   "mimetype": "text/x-python",
   "name": "python",
   "nbconvert_exporter": "python",
   "pygments_lexer": "ipython3",
   "version": "3.7.10"
  },
  "papermill": {
   "default_parameters": {},
   "duration": 11.977446,
   "end_time": "2021-11-17T15:20:15.736370",
   "environment_variables": {},
   "exception": null,
   "input_path": "__notebook__.ipynb",
   "output_path": "__notebook__.ipynb",
   "parameters": {},
   "start_time": "2021-11-17T15:20:03.758924",
   "version": "2.3.3"
  }
 },
 "nbformat": 4,
 "nbformat_minor": 5
}
